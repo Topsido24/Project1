{
 "cells": [
  {
   "cell_type": "code",
   "execution_count": null,
   "id": "70ad68f6-c8cc-4b67-955d-f65cb38dbdb1",
   "metadata": {},
   "outputs": [],
   "source": [
    "import pyforest\n",
    "data = pd.read_csv(“path.data.csv”)     #import data from a csv file"
   ]
  },
  {
   "cell_type": "code",
   "execution_count": null,
   "id": "d50ae1e9-7182-4626-8636-b5135ceaacd5",
   "metadata": {},
   "outputs": [],
   "source": [
    "data.dropna(inplace=True)\t\t#handling missing data\n",
    "data.drop_duplicates(inplace=True)\t\t#removing duplicate data\n",
    "data = pd.get_dummies(data, columns=[‘contract_type’, ‘complaints_category’, ‘gender’])\t#encoding categorical variables using one-hot encoding\n",
    "from sklearn.preprocessing import MinMaxScaler\n",
    "scaler = MixMaxScaler()\n",
    "data[‘monthly_home_subscription_usage’] = scaler.fit_transform(data[‘monthly_home_subscription_usage’].values.reshape(-1, 1))\t\t#normalize numerical features (e.g monthly home subscription usage)"
   ]
  },
  {
   "cell_type": "code",
   "execution_count": null,
   "id": "ce0461ff-4993-421a-b04d-0553e30b88b5",
   "metadata": {},
   "outputs": [],
   "source": [
    "from sklearn.feature_selection import SelectKBest, f_classif\n",
    "selector = SelectKBest(score_func=f_classif, k=5)\n",
    "selected_features = selector.fit_transform(X, y)\n",
    "\n",
    "from sklearn.model_selection import train_test_split  #split the data into train and test sets\n",
    "X_train, X_test, y_train, y_test = train_test_split(X, y, test_size=0.2, random_state=42)"
   ]
  },
  {
   "cell_type": "code",
   "execution_count": null,
   "id": "d26f803c-0e5e-4ed8-83f5-4aa7f3b6d1a5",
   "metadata": {},
   "outputs": [],
   "source": [
    "model = xgb.XGBClassifier(\n",
    "    objective='binary:logistic',\n",
    "    n_estimators=100,  # Number of boosting rounds (trees)\n",
    "    max_depth=3,       # Maximum depth of each tree\n",
    "    learning_rate=0.1  # Learning rate\n",
    ")\n",
    "model.fit(X_train, y_train)\n",
    "\n",
    "y_pred = model.predict(X_test)"
   ]
  },
  {
   "cell_type": "code",
   "execution_count": null,
   "id": "32170076-3afb-4061-9cf0-442173e7e52b",
   "metadata": {},
   "outputs": [],
   "source": [
    "from sklearn.metrics import accuracy_score, confusion_matrix, precision_score, recall_score, f1_score, roc_auc_score\n",
    "\n",
    "accuracy = accuracy_score(y_test, y_pred)\n",
    "precision = precision_score(y_test, y_pred)\n",
    "recall = recall_score(y_test, y_pred)\n",
    "f1 = f1_score(y_test, y_pred)\n",
    "roc_auc = roc_auc_score (y_test, model.predict_proba(X_test)[:, 1])"
   ]
  }
 ],
 "metadata": {
  "kernelspec": {
   "display_name": "Python 3 (ipykernel)",
   "language": "python",
   "name": "python3"
  },
  "language_info": {
   "codemirror_mode": {
    "name": "ipython",
    "version": 3
   },
   "file_extension": ".py",
   "mimetype": "text/x-python",
   "name": "python",
   "nbconvert_exporter": "python",
   "pygments_lexer": "ipython3",
   "version": "3.10.7"
  }
 },
 "nbformat": 4,
 "nbformat_minor": 5
}
